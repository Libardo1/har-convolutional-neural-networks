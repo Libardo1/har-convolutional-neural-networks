{
 "cells": [
  {
   "cell_type": "code",
   "execution_count": 210,
   "metadata": {},
   "outputs": [],
   "source": [
    "# generic imports\n",
    "import scipy.io\n",
    "import pandas as pd\n",
    "import numpy as np\n",
    "import math"
   ]
  },
  {
   "cell_type": "code",
   "execution_count": null,
   "metadata": {
    "collapsed": true
   },
   "outputs": [],
   "source": [
    "# create the dataset from matlab file\n",
    "mat = scipy.io.loadmat('dataset/ARS_DLR_DataSet.mat', squeeze_me=True, struct_as_record=True)"
   ]
  },
  {
   "cell_type": "markdown",
   "metadata": {},
   "source": [
    "Lets explore the dataset"
   ]
  },
  {
   "cell_type": "code",
   "execution_count": 243,
   "metadata": {},
   "outputs": [
    {
     "name": "stdout",
     "output_type": "stream",
     "text": [
      "Number of keys of the dict element 59\n",
      "\n",
      "Keys:\n",
      "dict_keys(['__header__', '__version__', '__globals__', 'ARS_Maria_Real_Sitting_Heading_2', 'ARS_Maria_Real_Sitting_Heading_3', 'ARS_Maria_Real_Sitting_Heading_4', 'ARS_Maria_FLGUp1', 'ARS_Maria_FLGUp2', 'ARS_Maria_FLGUp3', 'ARS_Maria_FLGUp4', 'ARS_Maria_Jump', 'ARS_Cristina_Test_4_Sensor_Left', 'ARS_Cristina_Test_5_Sensor_Left', 'ARS_Cristina_Test_2_Sensor_Left', 'ARS_Cristina_Test_3_Sensor_Left', 'ARS_Cristina_Test_1_Sensor_Left', 'ARS_Elena_Test_1_Sensor_Right', 'ARS_Elena_Test_2_Sensor_Right', 'ARS_Elena_Test_3_Sensor_Right', 'ARS_Elena_Test_4_Sensor_Right', 'ARS_Elena_Test_5_Sensor_Right', 'ARS_Elena_Walking', 'ARS_Fabian_Test_1_Sensor_Right', 'ARS_Fabian_Test_2_Sensor_Right', 'ARS_Fabian_Test_3_Sensor_Right', 'ARS_Fabian_Test_4_Sensor_Right', 'ARS_Fabian_Test_5_Sensor_Right', 'ARS_Jesus_Test_1_Sensor_Right', 'ARS_Jesus_Test_2_Sensor_Right', 'ARS_Jesus_Test_3_Inverse_Sensor_Right', 'ARS_Jesus_Test_4_Sensor_Right', 'ARS_Jesus_Test_5_Sensor_Right', 'ARS_Korbinian_Test_1_Sensor_Right', 'ARS_Korbinian_Test_3_Sensor_Right', 'ARS_Korbinian_Test_4_Sensor_Right', 'ARS_Korbinian_Test_5_Sensor_Right', 'ARS_Korbinian_Test_2_Sensor_Right', 'ARS_Maria_Falling_Sited_Heading_2', 'ARS_Maria_Falling_Sited_Heading_4', 'ARS_Maria_Real_Lying', 'ARS_Maria_Test_1', 'ARS_Maria_Falling_Sited_Heading_3', 'ARS_Maria_Falling_Sited_Heading_1', 'ARS_Maria_Real_Sitting_Heading_1', 'ARS_Maria_Running_Heading_1', 'ARS_Maria_Running_Heading_2', 'ARS_Maria_Real_Walking_Heading_1', 'ARS_Maria_Real_Walking_Heading_2', 'ARS_Maria_Real_Walking_Heading_3', 'ARS_Maria_Real_Walking_Heading_4', 'ARS_Maria_Real_Walking_Shoes_Sandals', 'ARS_Maria_Walking_Up_Down_Fast', 'ARS_Maria_Walking_Up_Down_Real', 'ARS_Maria_Running', 'ARS_Michael_Test_4_Sensor_Right_Pocket', 'ARS_Michael_Test_5_Sensor_Right_Pocket', 'ARS_Michael_Test_2_Sensor_Right_Pocket', 'ARS_Michael_Test_3_Sensor_Right_Pocket', 'ARS_Michael_Test_1_Sensor_Right_Pocket'])\n"
     ]
    }
   ],
   "source": [
    "print('Number of keys of the dict element', len(mat.keys()))\n",
    "print()\n",
    "print('Keys:')\n",
    "print(mat.keys())"
   ]
  },
  {
   "cell_type": "markdown",
   "metadata": {},
   "source": [
    "Lets see what a single entry is composed of"
   ]
  },
  {
   "cell_type": "code",
   "execution_count": 273,
   "metadata": {
    "scrolled": false
   },
   "outputs": [
    {
     "data": {
      "text/plain": [
       "array([ array([[  4.53400000e+01,  -9.43000200e+00,   1.97339400e+00, ...,\n",
       "          4.93577200e-01,  -1.54302400e-01,   3.48073800e-01],\n",
       "       [  4.53500000e+01,  -9.42630400e+00,   1.96610800e+00, ...,\n",
       "          4.94766900e-01,  -1.55703100e-01,   3.46810900e-01],\n",
       "       [  4.53600000e+01,  -9.43360500e+00,   1.96788500e+00, ...,\n",
       "          4.93788400e-01,  -1.54264800e-01,   3.47441300e-01],\n",
       "       ..., \n",
       "       [  5.26090000e+02,  -8.37665400e+00,   4.48864500e+00, ...,\n",
       "          4.22742800e-01,  -2.76599000e-01,   4.07902500e-01],\n",
       "       [  5.26100000e+02,  -8.40929300e+00,   4.50478200e+00, ...,\n",
       "          4.21581900e-01,  -2.75860100e-01,   4.08134000e-01],\n",
       "       [  5.26110000e+02,  -8.39455000e+00,   4.49753500e+00, ...,\n",
       "          4.22797100e-01,  -2.75629300e-01,   4.08713200e-01]]),\n",
       "       array([[  4.53400000e+01,  -2.38955600e-01,   9.77489600e-02, ...,\n",
       "          8.65125200e-01,   4.73254700e-01,  -1.66097400e-01],\n",
       "       [  4.53500000e+01,  -2.38969200e-01,   9.78752400e-02, ...,\n",
       "          8.65118300e-01,   4.73285300e-01,  -1.66045700e-01],\n",
       "       [  4.53600000e+01,  -2.38768800e-01,   9.79371900e-02, ...,\n",
       "          8.65264900e-01,   4.73073200e-01,  -1.65886100e-01],\n",
       "       ..., \n",
       "       [  5.26090000e+02,  -9.69879400e-02,   5.03802200e-01, ...,\n",
       "          9.58142800e-01,  -1.86141700e-01,  -2.17516600e-01],\n",
       "       [  5.26100000e+02,  -9.68112900e-02,   5.03931200e-01, ...,\n",
       "          9.58223200e-01,  -1.85997300e-01,  -2.17285900e-01],\n",
       "       [  5.26110000e+02,  -9.66741500e-02,   5.03979700e-01, ...,\n",
       "          9.58257300e-01,  -1.85986900e-01,  -2.17144200e-01]]),\n",
       "       array(['STNDING', 'SITTING', 'STNDING'], dtype=object),\n",
       "       array([    1,  7743,  8388, 45040, 45929, 48078], dtype=uint16)], dtype=object)"
      ]
     },
     "execution_count": 273,
     "metadata": {},
     "output_type": "execute_result"
    }
   ],
   "source": [
    "example_entry = mat[list(mat.keys())[3]]\n",
    "example_entry"
   ]
  },
  {
   "cell_type": "markdown",
   "metadata": {},
   "source": [
    "And a single frame recorded by the IMU sensor is like"
   ]
  },
  {
   "cell_type": "code",
   "execution_count": 274,
   "metadata": {},
   "outputs": [
    {
     "data": {
      "text/plain": [
       "array([  4.53400000e+01,  -9.43000200e+00,   1.97339400e+00,\n",
       "        -1.57358700e+00,  -5.30050200e-02,   4.51815800e-02,\n",
       "         3.52342500e-02,   4.93577200e-01,  -1.54302400e-01,\n",
       "         3.48073800e-01])"
      ]
     },
     "execution_count": 274,
     "metadata": {},
     "output_type": "execute_result"
    }
   ],
   "source": [
    "example_entry[0][0]"
   ]
  },
  {
   "cell_type": "markdown",
   "metadata": {},
   "source": [
    "And the corresponding attitude"
   ]
  },
  {
   "cell_type": "code",
   "execution_count": 275,
   "metadata": {},
   "outputs": [
    {
     "data": {
      "text/plain": [
       "array([ 45.34      ,  -0.2389556 ,   0.09774896,  -0.966098  ,\n",
       "        -0.4409745 ,   0.8754856 ,   0.1976519 ,   0.8651252 ,\n",
       "         0.4732547 ,  -0.1660974 ])"
      ]
     },
     "execution_count": 275,
     "metadata": {},
     "output_type": "execute_result"
    }
   ],
   "source": [
    "example_entry[1][0]"
   ]
  },
  {
   "cell_type": "markdown",
   "metadata": {},
   "source": [
    "According to the dataset documentation, this is what each column represent:\n",
    "\n",
    "**`example_entry[0]`**\n",
    "\n",
    "* 1st column is the time extracted from the sensor in seconds. For example: a value 15.6 means that it has passed 15.6 seconds since the sensor started to transmit data.\n",
    "\n",
    "\n",
    "* 2nd column is the acceleration in the X axis measured by the sensor.\n",
    "* 3rd column is the acceleration in the Y axis measured by the sensor.\n",
    "* 4th column is the acceleration in the Z axis measured by the sensor.\n",
    "\n",
    "\n",
    "* 5th column is the angular velocity in the X axis measured by the sensor.\n",
    "* 6th column is the angular velocity in the Y axis measured by the sensor.\n",
    "* 7th column is the angular velocity in the Z axis measured by the sensor.\n",
    "\n",
    "\n",
    "* 8th column is the magnetic field in the X axis measured by the sensor.\n",
    "* 9th column is the magnetic field in the Y axis measured by the sensor.\n",
    "* 10th column is the magnetic field in the Z axis measured by the sensor.\n",
    "\n",
    "**`example_entry[1]`**\n",
    "\n",
    "Contains a matrix of double data with the direction cosine matrix extracted from the sensor."
   ]
  },
  {
   "cell_type": "code",
   "execution_count": 276,
   "metadata": {},
   "outputs": [
    {
     "name": "stdout",
     "output_type": "stream",
     "text": [
      "['STNDING' 'SITTING' 'STNDING']\n",
      "[    1  7743  8388 45040 45929 48078]\n"
     ]
    }
   ],
   "source": [
    "print(example_entry[2])\n",
    "print(example_entry[3])"
   ]
  },
  {
   "cell_type": "markdown",
   "metadata": {},
   "source": [
    "**`example_entry[2]`**\n",
    "\n",
    "It contains a cell array where every position is a string. Every string is the identifier of the activity. The possible values of this strings are:\n",
    "* 'RUNNING' = \"running\"\n",
    "* 'WALKING' = \"walking\"\n",
    "* 'WALKUPS' = \"walking upstairs\"\n",
    "* 'WALKDWS' = \"walking downstairs\"\n",
    "* 'STNDING' = \"standing\"\n",
    "* 'SITTING' = \"sitting\"\n",
    "* 'XLYINGX' = \"lying on the floor\"\n",
    "* 'FALLING' = \"falling\"\n",
    "* 'JUMPVRT' = \"jumping vertically\"\n",
    "* 'JUMPFWD' = \"jumping forward\"\n",
    "* 'JUMPBCK' = \"jumping backward\"\n",
    "* 'TRANSIT' = \"transition between the activities\"\n",
    "\n",
    "As an example, if the cell contains three strings as: \"STNDING RUNNING STNDING\" means that the person performed these three activities in this \torder.\n",
    "\n",
    "**`example_entry[3]`**\n",
    "\n",
    "It is a vector with the index of the rows that indicate the beginning and ending of an activity. The format is the following:\n",
    "\n",
    "```\n",
    "\tt1_0 t1_f t2_0 t2_f t3_0 t3_f t4_0 t4_f ... tn_0 tn_f\n",
    "\n",
    "\tti_0 for i=1...n contains the beginning of the activity i.\n",
    "\tti_f for i=1...n contains the ending of the activity i.\n",
    "```\n",
    "\n",
    "Notice that the length of this vector should be twice the length of the cell containing the strings with the activities."
   ]
  },
  {
   "cell_type": "markdown",
   "metadata": {},
   "source": [
    "## From matlab to pandas\n",
    "Lets convert it to a dataframe for later processing"
   ]
  },
  {
   "cell_type": "code",
   "execution_count": 302,
   "metadata": {},
   "outputs": [
    {
     "name": "stdout",
     "output_type": "stream",
     "text": [
      "(48078, 3)\n",
      "(48078, 3)\n",
      "shape is (3, 3)\n"
     ]
    },
    {
     "data": {
      "text/html": [
       "<div>\n",
       "<style>\n",
       "    .dataframe thead tr:only-child th {\n",
       "        text-align: right;\n",
       "    }\n",
       "\n",
       "    .dataframe thead th {\n",
       "        text-align: left;\n",
       "    }\n",
       "\n",
       "    .dataframe tbody tr th {\n",
       "        vertical-align: top;\n",
       "    }\n",
       "</style>\n",
       "<table border=\"1\" class=\"dataframe\">\n",
       "  <thead>\n",
       "    <tr style=\"text-align: right;\">\n",
       "      <th></th>\n",
       "      <th>acc_x</th>\n",
       "      <th>acc_y</th>\n",
       "      <th>acc_z</th>\n",
       "      <th>attitude</th>\n",
       "      <th>gyr_x</th>\n",
       "      <th>gyr_y</th>\n",
       "      <th>gyr_z</th>\n",
       "      <th>labels</th>\n",
       "      <th>person</th>\n",
       "    </tr>\n",
       "  </thead>\n",
       "  <tbody>\n",
       "    <tr>\n",
       "      <th>0</th>\n",
       "      <td>-9.430002</td>\n",
       "      <td>1.973394</td>\n",
       "      <td>-1.573587</td>\n",
       "      <td>[-0.2389556, 0.09774896, -0.966098, -0.4409745...</td>\n",
       "      <td>-0.053005</td>\n",
       "      <td>0.045182</td>\n",
       "      <td>0.035234</td>\n",
       "      <td>STNDING</td>\n",
       "      <td>ARS_Maria_Real_Sitting_Heading_2</td>\n",
       "    </tr>\n",
       "    <tr>\n",
       "      <th>1</th>\n",
       "      <td>-9.426304</td>\n",
       "      <td>1.966108</td>\n",
       "      <td>-1.573818</td>\n",
       "      <td>[-0.2389692, 0.09787524, -0.9660817, -0.440980...</td>\n",
       "      <td>-0.055009</td>\n",
       "      <td>0.052240</td>\n",
       "      <td>0.061471</td>\n",
       "      <td>STNDING</td>\n",
       "      <td>ARS_Maria_Real_Sitting_Heading_2</td>\n",
       "    </tr>\n",
       "    <tr>\n",
       "      <th>2</th>\n",
       "      <td>-9.433605</td>\n",
       "      <td>1.967885</td>\n",
       "      <td>-1.577345</td>\n",
       "      <td>[-0.2387688, 0.09793719, -0.966125, -0.4408015...</td>\n",
       "      <td>-0.034780</td>\n",
       "      <td>0.030520</td>\n",
       "      <td>0.050830</td>\n",
       "      <td>STNDING</td>\n",
       "      <td>ARS_Maria_Real_Sitting_Heading_2</td>\n",
       "    </tr>\n",
       "    <tr>\n",
       "      <th>3</th>\n",
       "      <td>-9.433682</td>\n",
       "      <td>1.956968</td>\n",
       "      <td>-1.603091</td>\n",
       "      <td>[-0.2389078, 0.09797277, -0.966087, -0.4408588...</td>\n",
       "      <td>-0.060378</td>\n",
       "      <td>0.067733</td>\n",
       "      <td>0.059497</td>\n",
       "      <td>STNDING</td>\n",
       "      <td>ARS_Maria_Real_Sitting_Heading_2</td>\n",
       "    </tr>\n",
       "    <tr>\n",
       "      <th>4</th>\n",
       "      <td>-9.437164</td>\n",
       "      <td>1.944125</td>\n",
       "      <td>-1.599782</td>\n",
       "      <td>[-0.2390312, 0.0980841, -0.9660453, -0.4409559...</td>\n",
       "      <td>-0.074121</td>\n",
       "      <td>0.052016</td>\n",
       "      <td>0.067737</td>\n",
       "      <td>STNDING</td>\n",
       "      <td>ARS_Maria_Real_Sitting_Heading_2</td>\n",
       "    </tr>\n",
       "  </tbody>\n",
       "</table>\n",
       "</div>"
      ],
      "text/plain": [
       "      acc_x     acc_y     acc_z  \\\n",
       "0 -9.430002  1.973394 -1.573587   \n",
       "1 -9.426304  1.966108 -1.573818   \n",
       "2 -9.433605  1.967885 -1.577345   \n",
       "3 -9.433682  1.956968 -1.603091   \n",
       "4 -9.437164  1.944125 -1.599782   \n",
       "\n",
       "                                            attitude     gyr_x     gyr_y  \\\n",
       "0  [-0.2389556, 0.09774896, -0.966098, -0.4409745... -0.053005  0.045182   \n",
       "1  [-0.2389692, 0.09787524, -0.9660817, -0.440980... -0.055009  0.052240   \n",
       "2  [-0.2387688, 0.09793719, -0.966125, -0.4408015... -0.034780  0.030520   \n",
       "3  [-0.2389078, 0.09797277, -0.966087, -0.4408588... -0.060378  0.067733   \n",
       "4  [-0.2390312, 0.0980841, -0.9660453, -0.4409559... -0.074121  0.052016   \n",
       "\n",
       "      gyr_z   labels                            person  \n",
       "0  0.035234  STNDING  ARS_Maria_Real_Sitting_Heading_2  \n",
       "1  0.061471  STNDING  ARS_Maria_Real_Sitting_Heading_2  \n",
       "2  0.050830  STNDING  ARS_Maria_Real_Sitting_Heading_2  \n",
       "3  0.059497  STNDING  ARS_Maria_Real_Sitting_Heading_2  \n",
       "4  0.067737  STNDING  ARS_Maria_Real_Sitting_Heading_2  "
      ]
     },
     "execution_count": 302,
     "metadata": {},
     "output_type": "execute_result"
    }
   ],
   "source": [
    "keys = [k for k in mat.keys() if k[0] != '_']\n",
    "data = {\n",
    "    'person': [],\n",
    "    'acc_x': [],\n",
    "    'acc_y': [],\n",
    "    'acc_z': [],\n",
    "    'gyr_x': [],\n",
    "    'gyr_y': [],\n",
    "    'gyr_z': [],\n",
    "    'attitude': [],\n",
    "    'labels': []\n",
    "}\n",
    "\n",
    "for j, k in enumerate(keys):\n",
    "    record = mat[k]\n",
    "    sensor = record[0]\n",
    "    attitude = record[1]\n",
    "    # cycle through the labels\n",
    "    labels = record[2]\n",
    "    frame_ranges = record[3]\n",
    "    '''\n",
    "    print('### DEBUG - {} ###'.format(k))\n",
    "    print(labels)\n",
    "    print(frame_ranges)\n",
    "    '''\n",
    "    for i in range(0, len(frame_ranges), 2):\n",
    "        # create current label\n",
    "        label_index = math.floor(i/2)\n",
    "        label = labels[label_index]\n",
    "        # +1 because extremes are included\n",
    "        frame_length = frame_ranges[i+1] - frame_ranges[i] +1\n",
    "        data['labels'] += [label] * frame_length\n",
    "        \n",
    "        # manually create labels for transitions\n",
    "        # if subsequent frame_range is not contiguous, create transition\n",
    "        if (i+2 < len(frame_ranges)) and (frame_ranges[i+2] != frame_ranges[i+1]+1):\n",
    "            frame_length = frame_ranges[i+2] - frame_ranges[i+1] -1\n",
    "            # labeling transitions with current and subsequent actions\n",
    "            current_action, next_action = (labels[label_index], labels[label_index+1])\n",
    "            label = 'TRANS-{}-{}'.format(current_action, next_action)\n",
    "            data['labels'] += [label] * frame_length\n",
    "        \n",
    "    print(attitude[:,1:4].shape)\n",
    "    print(sensor[:,1:4].shape)\n",
    "    att = np.matmul(attitude[:,1:4].T, sensor[:,1:4])\n",
    "    print('shape is', att.shape)\n",
    "    #att_x = attitude[:,1:4].dot(sensor[:,1:4].T)\n",
    "    \n",
    "    \n",
    "    # sensor[:, 0] indicates time which is not useful, columns 7: are magnetometer, not useful\n",
    "    # using list instead of numpy concatenation is more efficient\n",
    "    data['acc_x'] += sensor[:, 1].tolist()\n",
    "    data['acc_y'] += sensor[:, 2].tolist()\n",
    "    data['acc_z'] += sensor[:, 3].tolist()\n",
    "    data['gyr_x'] += sensor[:, 4].tolist()\n",
    "    data['gyr_y'] += sensor[:, 5].tolist()\n",
    "    data['gyr_z'] += sensor[:, 6].tolist()\n",
    "    \n",
    "    data['attitude'] += attitude[:, 1:].tolist()\n",
    "    \n",
    "    data['person'] += [k] * len(sensor[:, 1])\n",
    "    break\n",
    "    \n",
    "df = pd.DataFrame(data = data)\n",
    "df.head()"
   ]
  },
  {
   "cell_type": "code",
   "execution_count": 303,
   "metadata": {},
   "outputs": [
    {
     "ename": "ValueError",
     "evalue": "labels ['attitude'] not contained in axis",
     "output_type": "error",
     "traceback": [
      "\u001b[0;31m---------------------------------------------------------------------------\u001b[0m",
      "\u001b[0;31mValueError\u001b[0m                                Traceback (most recent call last)",
      "\u001b[0;32m<ipython-input-303-9084314e5d1b>\u001b[0m in \u001b[0;36m<module>\u001b[0;34m()\u001b[0m\n\u001b[1;32m     20\u001b[0m \u001b[0;34m\u001b[0m\u001b[0m\n\u001b[1;32m     21\u001b[0m \u001b[0mdf\u001b[0m \u001b[0;34m=\u001b[0m \u001b[0mdf\u001b[0m\u001b[0;34m.\u001b[0m\u001b[0mapply\u001b[0m\u001b[0;34m(\u001b[0m\u001b[0mto_global_frame\u001b[0m\u001b[0;34m,\u001b[0m \u001b[0maxis\u001b[0m\u001b[0;34m=\u001b[0m\u001b[0;36m1\u001b[0m\u001b[0;34m)\u001b[0m\u001b[0;34m\u001b[0m\u001b[0m\n\u001b[0;32m---> 22\u001b[0;31m \u001b[0mdf\u001b[0m \u001b[0;34m=\u001b[0m \u001b[0mdf\u001b[0m\u001b[0;34m.\u001b[0m\u001b[0mdrop\u001b[0m\u001b[0;34m(\u001b[0m\u001b[0;34m'attitude'\u001b[0m\u001b[0;34m)\u001b[0m\u001b[0;34m\u001b[0m\u001b[0m\n\u001b[0m\u001b[1;32m     23\u001b[0m \u001b[0mdf\u001b[0m\u001b[0;34m.\u001b[0m\u001b[0mhead\u001b[0m\u001b[0;34m(\u001b[0m\u001b[0;34m)\u001b[0m\u001b[0;34m\u001b[0m\u001b[0m\n",
      "\u001b[0;32m~/anaconda3/lib/python3.6/site-packages/pandas/core/generic.py\u001b[0m in \u001b[0;36mdrop\u001b[0;34m(self, labels, axis, level, inplace, errors)\u001b[0m\n\u001b[1;32m   2159\u001b[0m                 \u001b[0mnew_axis\u001b[0m \u001b[0;34m=\u001b[0m \u001b[0maxis\u001b[0m\u001b[0;34m.\u001b[0m\u001b[0mdrop\u001b[0m\u001b[0;34m(\u001b[0m\u001b[0mlabels\u001b[0m\u001b[0;34m,\u001b[0m \u001b[0mlevel\u001b[0m\u001b[0;34m=\u001b[0m\u001b[0mlevel\u001b[0m\u001b[0;34m,\u001b[0m \u001b[0merrors\u001b[0m\u001b[0;34m=\u001b[0m\u001b[0merrors\u001b[0m\u001b[0;34m)\u001b[0m\u001b[0;34m\u001b[0m\u001b[0m\n\u001b[1;32m   2160\u001b[0m             \u001b[0;32melse\u001b[0m\u001b[0;34m:\u001b[0m\u001b[0;34m\u001b[0m\u001b[0m\n\u001b[0;32m-> 2161\u001b[0;31m                 \u001b[0mnew_axis\u001b[0m \u001b[0;34m=\u001b[0m \u001b[0maxis\u001b[0m\u001b[0;34m.\u001b[0m\u001b[0mdrop\u001b[0m\u001b[0;34m(\u001b[0m\u001b[0mlabels\u001b[0m\u001b[0;34m,\u001b[0m \u001b[0merrors\u001b[0m\u001b[0;34m=\u001b[0m\u001b[0merrors\u001b[0m\u001b[0;34m)\u001b[0m\u001b[0;34m\u001b[0m\u001b[0m\n\u001b[0m\u001b[1;32m   2162\u001b[0m             \u001b[0mdropped\u001b[0m \u001b[0;34m=\u001b[0m \u001b[0mself\u001b[0m\u001b[0;34m.\u001b[0m\u001b[0mreindex\u001b[0m\u001b[0;34m(\u001b[0m\u001b[0;34m**\u001b[0m\u001b[0;34m{\u001b[0m\u001b[0maxis_name\u001b[0m\u001b[0;34m:\u001b[0m \u001b[0mnew_axis\u001b[0m\u001b[0;34m}\u001b[0m\u001b[0;34m)\u001b[0m\u001b[0;34m\u001b[0m\u001b[0m\n\u001b[1;32m   2163\u001b[0m             \u001b[0;32mtry\u001b[0m\u001b[0;34m:\u001b[0m\u001b[0;34m\u001b[0m\u001b[0m\n",
      "\u001b[0;32m~/anaconda3/lib/python3.6/site-packages/pandas/core/indexes/base.py\u001b[0m in \u001b[0;36mdrop\u001b[0;34m(self, labels, errors)\u001b[0m\n\u001b[1;32m   3622\u001b[0m             \u001b[0;32mif\u001b[0m \u001b[0merrors\u001b[0m \u001b[0;34m!=\u001b[0m \u001b[0;34m'ignore'\u001b[0m\u001b[0;34m:\u001b[0m\u001b[0;34m\u001b[0m\u001b[0m\n\u001b[1;32m   3623\u001b[0m                 raise ValueError('labels %s not contained in axis' %\n\u001b[0;32m-> 3624\u001b[0;31m                                  labels[mask])\n\u001b[0m\u001b[1;32m   3625\u001b[0m             \u001b[0mindexer\u001b[0m \u001b[0;34m=\u001b[0m \u001b[0mindexer\u001b[0m\u001b[0;34m[\u001b[0m\u001b[0;34m~\u001b[0m\u001b[0mmask\u001b[0m\u001b[0;34m]\u001b[0m\u001b[0;34m\u001b[0m\u001b[0m\n\u001b[1;32m   3626\u001b[0m         \u001b[0;32mreturn\u001b[0m \u001b[0mself\u001b[0m\u001b[0;34m.\u001b[0m\u001b[0mdelete\u001b[0m\u001b[0;34m(\u001b[0m\u001b[0mindexer\u001b[0m\u001b[0;34m)\u001b[0m\u001b[0;34m\u001b[0m\u001b[0m\n",
      "\u001b[0;31mValueError\u001b[0m: labels ['attitude'] not contained in axis"
     ]
    }
   ],
   "source": [
    "# compute the sensor measures in the global frame\n",
    "def to_global_frame(row):\n",
    "    attitude = np.array(row['attitude']).reshape(3,3)\n",
    "    acceleration = np.array([row.acc_x, row.acc_y, row.acc_z])\n",
    "    gyro = np.array([row.gyr_x, row.gyr_y, row.gyr_z])\n",
    "    \n",
    "    # global frame conversions\n",
    "    acc_gf = np.dot(attitude.T, acceleration)\n",
    "    gyro_gf = np.dot(attitude.T, gyro)\n",
    "    \n",
    "    row['acc_x_gf'] = acc_gf[0]\n",
    "    row['acc_y_gf'] = acc_gf[1]\n",
    "    row['acc_z_gf'] = acc_gf[2]\n",
    "    \n",
    "    row['gyr_x_gf'] = gyro_gf[0]\n",
    "    row['gyr_y_gf'] = gyro_gf[1]\n",
    "    row['gyr_z_gf'] = gyro_gf[2]\n",
    "    \n",
    "    return row\n",
    "\n",
    "df = df.apply(to_global_frame, axis=1)\n",
    "df = df.drop('attitude', axis=1)\n",
    "df.head()"
   ]
  },
  {
   "cell_type": "code",
   "execution_count": 310,
   "metadata": {},
   "outputs": [
    {
     "data": {
      "text/html": [
       "<div>\n",
       "<style>\n",
       "    .dataframe thead tr:only-child th {\n",
       "        text-align: right;\n",
       "    }\n",
       "\n",
       "    .dataframe thead th {\n",
       "        text-align: left;\n",
       "    }\n",
       "\n",
       "    .dataframe tbody tr th {\n",
       "        vertical-align: top;\n",
       "    }\n",
       "</style>\n",
       "<table border=\"1\" class=\"dataframe\">\n",
       "  <thead>\n",
       "    <tr style=\"text-align: right;\">\n",
       "      <th></th>\n",
       "      <th>acc_x</th>\n",
       "      <th>acc_y</th>\n",
       "      <th>acc_z</th>\n",
       "      <th>gyr_x</th>\n",
       "      <th>gyr_y</th>\n",
       "      <th>gyr_z</th>\n",
       "      <th>labels</th>\n",
       "      <th>person</th>\n",
       "      <th>acc_x_gf</th>\n",
       "      <th>acc_y_gf</th>\n",
       "      <th>acc_z_gf</th>\n",
       "      <th>gyr_x_gf</th>\n",
       "      <th>gyr_y_gf</th>\n",
       "      <th>gyr_z_gf</th>\n",
       "    </tr>\n",
       "  </thead>\n",
       "  <tbody>\n",
       "    <tr>\n",
       "      <th>0</th>\n",
       "      <td>-9.430002</td>\n",
       "      <td>1.973394</td>\n",
       "      <td>-1.573587</td>\n",
       "      <td>-0.053005</td>\n",
       "      <td>0.045182</td>\n",
       "      <td>0.035234</td>\n",
       "      <td>STNDING</td>\n",
       "      <td>ARS_Maria_Real_Sitting_Heading_2</td>\n",
       "      <td>0.021786</td>\n",
       "      <td>0.061198</td>\n",
       "      <td>9.761720</td>\n",
       "      <td>0.023224</td>\n",
       "      <td>0.051049</td>\n",
       "      <td>0.054286</td>\n",
       "    </tr>\n",
       "    <tr>\n",
       "      <th>1</th>\n",
       "      <td>-9.426304</td>\n",
       "      <td>1.966108</td>\n",
       "      <td>-1.573818</td>\n",
       "      <td>-0.055009</td>\n",
       "      <td>0.052240</td>\n",
       "      <td>0.061471</td>\n",
       "      <td>STNDING</td>\n",
       "      <td>ARS_Maria_Real_Sitting_Heading_2</td>\n",
       "      <td>0.024042</td>\n",
       "      <td>0.053772</td>\n",
       "      <td>9.756751</td>\n",
       "      <td>0.043289</td>\n",
       "      <td>0.069443</td>\n",
       "      <td>0.053268</td>\n",
       "    </tr>\n",
       "    <tr>\n",
       "      <th>2</th>\n",
       "      <td>-9.433605</td>\n",
       "      <td>1.967885</td>\n",
       "      <td>-1.577345</td>\n",
       "      <td>-0.034780</td>\n",
       "      <td>0.030520</td>\n",
       "      <td>0.050830</td>\n",
       "      <td>STNDING</td>\n",
       "      <td>ARS_Maria_Real_Sitting_Heading_2</td>\n",
       "      <td>0.020183</td>\n",
       "      <td>0.052906</td>\n",
       "      <td>9.764746</td>\n",
       "      <td>0.038832</td>\n",
       "      <td>0.047362</td>\n",
       "      <td>0.031204</td>\n",
       "    </tr>\n",
       "    <tr>\n",
       "      <th>3</th>\n",
       "      <td>-9.433682</td>\n",
       "      <td>1.956968</td>\n",
       "      <td>-1.603091</td>\n",
       "      <td>-0.060378</td>\n",
       "      <td>0.067733</td>\n",
       "      <td>0.059497</td>\n",
       "      <td>STNDING</td>\n",
       "      <td>ARS_Maria_Real_Sitting_Heading_2</td>\n",
       "      <td>0.004043</td>\n",
       "      <td>0.030570</td>\n",
       "      <td>9.766934</td>\n",
       "      <td>0.036041</td>\n",
       "      <td>0.081537</td>\n",
       "      <td>0.061853</td>\n",
       "    </tr>\n",
       "    <tr>\n",
       "      <th>4</th>\n",
       "      <td>-9.437164</td>\n",
       "      <td>1.944125</td>\n",
       "      <td>-1.599782</td>\n",
       "      <td>-0.074121</td>\n",
       "      <td>0.052016</td>\n",
       "      <td>0.067737</td>\n",
       "      <td>STNDING</td>\n",
       "      <td>ARS_Maria_Real_Sitting_Heading_2</td>\n",
       "      <td>0.014510</td>\n",
       "      <td>0.019096</td>\n",
       "      <td>9.767211</td>\n",
       "      <td>0.053381</td>\n",
       "      <td>0.070326</td>\n",
       "      <td>0.070659</td>\n",
       "    </tr>\n",
       "  </tbody>\n",
       "</table>\n",
       "</div>"
      ],
      "text/plain": [
       "      acc_x     acc_y     acc_z     gyr_x     gyr_y     gyr_z   labels  \\\n",
       "0 -9.430002  1.973394 -1.573587 -0.053005  0.045182  0.035234  STNDING   \n",
       "1 -9.426304  1.966108 -1.573818 -0.055009  0.052240  0.061471  STNDING   \n",
       "2 -9.433605  1.967885 -1.577345 -0.034780  0.030520  0.050830  STNDING   \n",
       "3 -9.433682  1.956968 -1.603091 -0.060378  0.067733  0.059497  STNDING   \n",
       "4 -9.437164  1.944125 -1.599782 -0.074121  0.052016  0.067737  STNDING   \n",
       "\n",
       "                             person  acc_x_gf  acc_y_gf  acc_z_gf  gyr_x_gf  \\\n",
       "0  ARS_Maria_Real_Sitting_Heading_2  0.021786  0.061198  9.761720  0.023224   \n",
       "1  ARS_Maria_Real_Sitting_Heading_2  0.024042  0.053772  9.756751  0.043289   \n",
       "2  ARS_Maria_Real_Sitting_Heading_2  0.020183  0.052906  9.764746  0.038832   \n",
       "3  ARS_Maria_Real_Sitting_Heading_2  0.004043  0.030570  9.766934  0.036041   \n",
       "4  ARS_Maria_Real_Sitting_Heading_2  0.014510  0.019096  9.767211  0.053381   \n",
       "\n",
       "   gyr_y_gf  gyr_z_gf  \n",
       "0  0.051049  0.054286  \n",
       "1  0.069443  0.053268  \n",
       "2  0.047362  0.031204  \n",
       "3  0.081537  0.061853  \n",
       "4  0.070326  0.070659  "
      ]
     },
     "execution_count": 310,
     "metadata": {},
     "output_type": "execute_result"
    }
   ],
   "source": []
  },
  {
   "cell_type": "code",
   "execution_count": 296,
   "metadata": {},
   "outputs": [
    {
     "data": {
      "text/plain": [
       "0    None\n",
       "1    None\n",
       "2    None\n",
       "3    None\n",
       "4    None\n",
       "dtype: object"
      ]
     },
     "execution_count": 296,
     "metadata": {},
     "output_type": "execute_result"
    }
   ],
   "source": [
    "df"
   ]
  },
  {
   "cell_type": "code",
   "execution_count": 278,
   "metadata": {},
   "outputs": [
    {
     "name": "stdout",
     "output_type": "stream",
     "text": [
      "[[ 0  1  2  3]\n",
      " [ 4  5  6  7]\n",
      " [ 8  9 10 11]\n",
      " [12 13 14 15]]\n"
     ]
    },
    {
     "data": {
      "text/plain": [
       "array([[ 0,  4,  8, 12],\n",
       "       [ 1,  5,  9, 13],\n",
       "       [ 2,  6, 10, 14],\n",
       "       [ 3,  7, 11, 15]])"
      ]
     },
     "execution_count": 278,
     "metadata": {},
     "output_type": "execute_result"
    }
   ],
   "source": [
    "a = np.arange(16).reshape(4,4)\n",
    "print(a)\n",
    "b = a.tolist()\n",
    "np.array(b).T"
   ]
  },
  {
   "cell_type": "code",
   "execution_count": 242,
   "metadata": {},
   "outputs": [
    {
     "data": {
      "text/html": [
       "<div>\n",
       "<style>\n",
       "    .dataframe thead tr:only-child th {\n",
       "        text-align: right;\n",
       "    }\n",
       "\n",
       "    .dataframe thead th {\n",
       "        text-align: left;\n",
       "    }\n",
       "\n",
       "    .dataframe tbody tr th {\n",
       "        vertical-align: top;\n",
       "    }\n",
       "</style>\n",
       "<table border=\"1\" class=\"dataframe\">\n",
       "  <thead>\n",
       "    <tr style=\"text-align: right;\">\n",
       "      <th></th>\n",
       "      <th>labels</th>\n",
       "      <th>person</th>\n",
       "    </tr>\n",
       "  </thead>\n",
       "  <tbody>\n",
       "    <tr>\n",
       "      <th>94505</th>\n",
       "      <td>XLYINGX</td>\n",
       "      <td>ARS_Maria_FLGUp1</td>\n",
       "    </tr>\n",
       "    <tr>\n",
       "      <th>94506</th>\n",
       "      <td>XLYINGX</td>\n",
       "      <td>ARS_Maria_FLGUp1</td>\n",
       "    </tr>\n",
       "    <tr>\n",
       "      <th>94507</th>\n",
       "      <td>TRANS-XLYINGX-STNDING</td>\n",
       "      <td>ARS_Maria_FLGUp1</td>\n",
       "    </tr>\n",
       "    <tr>\n",
       "      <th>94508</th>\n",
       "      <td>TRANS-XLYINGX-STNDING</td>\n",
       "      <td>ARS_Maria_FLGUp1</td>\n",
       "    </tr>\n",
       "  </tbody>\n",
       "</table>\n",
       "</div>"
      ],
      "text/plain": [
       "                      labels            person\n",
       "94505                XLYINGX  ARS_Maria_FLGUp1\n",
       "94506                XLYINGX  ARS_Maria_FLGUp1\n",
       "94507  TRANS-XLYINGX-STNDING  ARS_Maria_FLGUp1\n",
       "94508  TRANS-XLYINGX-STNDING  ARS_Maria_FLGUp1"
      ]
     },
     "execution_count": 242,
     "metadata": {},
     "output_type": "execute_result"
    }
   ],
   "source": [
    "start = 87636\n",
    "df.loc[df.person == 'ARS_Maria_FLGUp1', ['labels', 'person']].iloc[6869:6873]"
   ]
  },
  {
   "cell_type": "code",
   "execution_count": 198,
   "metadata": {},
   "outputs": [
    {
     "data": {
      "text/plain": [
       "array(['STNDING'], dtype=object)"
      ]
     },
     "execution_count": 198,
     "metadata": {},
     "output_type": "execute_result"
    }
   ],
   "source": [
    "df['labels'].iloc[45929:].unique()"
   ]
  },
  {
   "cell_type": "code",
   "execution_count": 93,
   "metadata": {},
   "outputs": [
    {
     "data": {
      "text/plain": [
       "'ciaociaociao'"
      ]
     },
     "execution_count": 93,
     "metadata": {},
     "output_type": "execute_result"
    }
   ],
   "source": [
    "'ciao' * 3"
   ]
  }
 ],
 "metadata": {
  "kernelspec": {
   "display_name": "Python 3",
   "language": "python",
   "name": "python3"
  },
  "language_info": {
   "codemirror_mode": {
    "name": "ipython",
    "version": 3
   },
   "file_extension": ".py",
   "mimetype": "text/x-python",
   "name": "python",
   "nbconvert_exporter": "python",
   "pygments_lexer": "ipython3",
   "version": "3.6.3"
  }
 },
 "nbformat": 4,
 "nbformat_minor": 2
}
