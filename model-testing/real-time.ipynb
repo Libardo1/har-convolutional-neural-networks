{
 "cells": [
  {
   "cell_type": "markdown",
   "metadata": {},
   "source": [
    "# Tests on some real data\n",
    "This notebook was used just to test the model on some data captured with an Android smartphone using the app https://play.google.com/store/apps/details?id=de.lorenz_fenster.sensorstreamgps&hl=en"
   ]
  },
  {
   "cell_type": "code",
   "execution_count": 153,
   "metadata": {
    "collapsed": true
   },
   "outputs": [],
   "source": [
    "# generic imports\n",
    "import pandas as pd\n",
    "import numpy as np\n",
    "import time\n",
    "from keras.models import model_from_json\n",
    "import numpy\n",
    "\n",
    "def ohe_to_label(ohe_labels):\n",
    "    Y = [np.argmax(t) for t in ohe_labels]\n",
    "    return Y"
   ]
  },
  {
   "cell_type": "code",
   "execution_count": 154,
   "metadata": {
    "collapsed": true
   },
   "outputs": [],
   "source": [
    "# mean and std used during training\n",
    "mean = [-8.33711405e+00, 6.74759490e-01, 7.00107768e-01, -1.04606607e-02, 6.75372537e-03, 2.03051039e-02]\n",
    "std = [4.27451193, 3.23502816, 3.52895212, 0.53593171, 0.42801951, 0.35004746]"
   ]
  },
  {
   "cell_type": "code",
   "execution_count": 155,
   "metadata": {
    "collapsed": true
   },
   "outputs": [],
   "source": [
    "class_conversion = {\n",
    "    '0': 'falling',\n",
    "    '1': 'jumping',\n",
    "    '2': 'lying',\n",
    "    '3': 'running',\n",
    "    '4': 'sitting',\n",
    "    '5': 'standing',\n",
    "    '6': 'walking'\n",
    "}"
   ]
  },
  {
   "cell_type": "markdown",
   "metadata": {},
   "source": [
    "# Tests on simulated real time data from training set\n",
    "To use the dataset `df.csv` you should export the DataFrame from `001-data-exploration.ipynb`. The dataset is the original one, NOT normalized, without the transients."
   ]
  },
  {
   "cell_type": "code",
   "execution_count": 156,
   "metadata": {
    "collapsed": true
   },
   "outputs": [],
   "source": [
    "# read the original Pandas dataframe\n",
    "df = pd.read_csv('df.csv')\n",
    "df = df.drop('Unnamed: 0', axis=1)"
   ]
  },
  {
   "cell_type": "code",
   "execution_count": 158,
   "metadata": {},
   "outputs": [
    {
     "data": {
      "text/html": [
       "<div>\n",
       "<style>\n",
       "    .dataframe thead tr:only-child th {\n",
       "        text-align: right;\n",
       "    }\n",
       "\n",
       "    .dataframe thead th {\n",
       "        text-align: left;\n",
       "    }\n",
       "\n",
       "    .dataframe tbody tr th {\n",
       "        vertical-align: top;\n",
       "    }\n",
       "</style>\n",
       "<table border=\"1\" class=\"dataframe\">\n",
       "  <thead>\n",
       "    <tr style=\"text-align: right;\">\n",
       "      <th></th>\n",
       "      <th>acc_x</th>\n",
       "      <th>acc_y</th>\n",
       "      <th>acc_z</th>\n",
       "      <th>gyr_x</th>\n",
       "      <th>gyr_y</th>\n",
       "      <th>gyr_z</th>\n",
       "      <th>labels</th>\n",
       "    </tr>\n",
       "  </thead>\n",
       "  <tbody>\n",
       "    <tr>\n",
       "      <th>0</th>\n",
       "      <td>-9.430002</td>\n",
       "      <td>1.973394</td>\n",
       "      <td>-1.573587</td>\n",
       "      <td>-0.053005</td>\n",
       "      <td>0.045182</td>\n",
       "      <td>0.035234</td>\n",
       "      <td>standing</td>\n",
       "    </tr>\n",
       "    <tr>\n",
       "      <th>1</th>\n",
       "      <td>-9.426304</td>\n",
       "      <td>1.966108</td>\n",
       "      <td>-1.573818</td>\n",
       "      <td>-0.055009</td>\n",
       "      <td>0.052240</td>\n",
       "      <td>0.061471</td>\n",
       "      <td>standing</td>\n",
       "    </tr>\n",
       "    <tr>\n",
       "      <th>2</th>\n",
       "      <td>-9.433605</td>\n",
       "      <td>1.967885</td>\n",
       "      <td>-1.577345</td>\n",
       "      <td>-0.034780</td>\n",
       "      <td>0.030520</td>\n",
       "      <td>0.050830</td>\n",
       "      <td>standing</td>\n",
       "    </tr>\n",
       "    <tr>\n",
       "      <th>3</th>\n",
       "      <td>-9.433682</td>\n",
       "      <td>1.956968</td>\n",
       "      <td>-1.603091</td>\n",
       "      <td>-0.060378</td>\n",
       "      <td>0.067733</td>\n",
       "      <td>0.059497</td>\n",
       "      <td>standing</td>\n",
       "    </tr>\n",
       "    <tr>\n",
       "      <th>4</th>\n",
       "      <td>-9.437164</td>\n",
       "      <td>1.944125</td>\n",
       "      <td>-1.599782</td>\n",
       "      <td>-0.074121</td>\n",
       "      <td>0.052016</td>\n",
       "      <td>0.067737</td>\n",
       "      <td>standing</td>\n",
       "    </tr>\n",
       "  </tbody>\n",
       "</table>\n",
       "</div>"
      ],
      "text/plain": [
       "      acc_x     acc_y     acc_z     gyr_x     gyr_y     gyr_z    labels\n",
       "0 -9.430002  1.973394 -1.573587 -0.053005  0.045182  0.035234  standing\n",
       "1 -9.426304  1.966108 -1.573818 -0.055009  0.052240  0.061471  standing\n",
       "2 -9.433605  1.967885 -1.577345 -0.034780  0.030520  0.050830  standing\n",
       "3 -9.433682  1.956968 -1.603091 -0.060378  0.067733  0.059497  standing\n",
       "4 -9.437164  1.944125 -1.599782 -0.074121  0.052016  0.067737  standing"
      ]
     },
     "execution_count": 158,
     "metadata": {},
     "output_type": "execute_result"
    }
   ],
   "source": [
    "df.head()"
   ]
  },
  {
   "cell_type": "code",
   "execution_count": 159,
   "metadata": {},
   "outputs": [
    {
     "data": {
      "text/plain": [
       "(1827646, 7)"
      ]
     },
     "execution_count": 159,
     "metadata": {},
     "output_type": "execute_result"
    }
   ],
   "source": [
    "df.shape"
   ]
  },
  {
   "cell_type": "code",
   "execution_count": 160,
   "metadata": {
    "collapsed": true
   },
   "outputs": [],
   "source": [
    "# normalize acceleration and gyroscope\n",
    "columns_to_norm = [\n",
    "    'acc_x', 'acc_y', 'acc_z',\n",
    "    'gyr_x', 'gyr_y', 'gyr_z']\n",
    "df[columns_to_norm] = (df[columns_to_norm]-mean)/std"
   ]
  },
  {
   "cell_type": "code",
   "execution_count": 161,
   "metadata": {},
   "outputs": [
    {
     "name": "stdout",
     "output_type": "stream",
     "text": [
      "Loaded model from disk\n"
     ]
    }
   ],
   "source": [
    "# load model\n",
    "json_file = open('m_1d2d_01_reg-augmented-model.json', 'r')\n",
    "loaded_model_json = json_file.read()\n",
    "json_file.close()\n",
    "loaded_model = model_from_json(loaded_model_json)\n",
    "# load weights into new model\n",
    "loaded_model.load_weights(\"m_1d2d_01_reg-augmented-weights.h5\")\n",
    "print(\"Loaded model from disk\")\n",
    "loaded_model.compile(loss='categorical_crossentropy', optimizer='rmsprop', metrics=['accuracy'])"
   ]
  },
  {
   "cell_type": "code",
   "execution_count": 164,
   "metadata": {},
   "outputs": [
    {
     "name": "stdout",
     "output_type": "stream",
     "text": [
      "0.34441351890563965\n",
      "[[  5.98257566e-06   3.08926283e-05   4.32323674e-07   1.18596347e-06\n",
      "    2.71066837e-03   9.97245431e-01   5.45205148e-06]]\n",
      "0.030178070068359375\n",
      "[[  1.99623773e-05   1.34613438e-04   2.00302748e-06   4.46931836e-06\n",
      "    3.88201349e-03   9.95932162e-01   2.47782536e-05]]\n",
      "0.01922440528869629\n",
      "[[  5.69179538e-05   1.00151192e-04   1.22004349e-05   2.29002635e-05\n",
      "    2.77114920e-02   9.71991003e-01   1.05380095e-04]]\n",
      "0.044544219970703125\n",
      "[[  4.35945840e-05   2.51219055e-04   9.00140003e-06   6.51908476e-06\n",
      "    4.17627720e-03   9.94136214e-01   1.37722550e-03]]\n",
      "0.08860492706298828\n",
      "[[  7.17001831e-06   2.57227657e-04   6.31896455e-07   8.29035798e-07\n",
      "    1.11948024e-03   9.98593032e-01   2.16351291e-05]]\n",
      "0.035262107849121094\n",
      "[[  1.15936132e-07   2.74890203e-06   5.34952438e-09   1.08083977e-08\n",
      "    1.26842322e-04   9.99869227e-01   1.04009200e-06]]\n",
      "0.03746771812438965\n",
      "[[  1.89902043e-04   8.64676607e-04   5.19265268e-05   7.47439699e-05\n",
      "    4.92417440e-02   9.49298918e-01   2.78048858e-04]]\n",
      "0.019910573959350586\n",
      "[[  1.24262633e-05   5.98841398e-05   2.07095309e-06   3.71563033e-06\n",
      "    7.64504634e-03   9.92244303e-01   3.25303226e-05]]\n",
      "0.16098356246948242\n",
      "[[  1.18474036e-05   4.88425176e-05   2.30297042e-06   4.28965859e-06\n",
      "    1.24651929e-02   9.87440586e-01   2.69772081e-05]]\n",
      "0.03574085235595703\n",
      "[[  6.31959028e-06   6.72699971e-05   8.76673539e-07   1.32012565e-06\n",
      "    4.49468568e-03   9.95410025e-01   1.94719851e-05]]\n",
      "0.033617258071899414\n",
      "[[  3.08479525e-06   3.02798617e-05   3.60592878e-07   6.65999096e-07\n",
      "    2.04963540e-03   9.97901917e-01   1.40336233e-05]]\n",
      "0.02866363525390625\n",
      "[[  5.65578448e-05   3.63575295e-04   1.27707226e-05   1.27159246e-05\n",
      "    6.94742566e-03   9.91970122e-01   6.36927492e-04]]\n",
      "0.017546415328979492\n",
      "[[  2.31089056e-04   8.23976181e-04   8.52437151e-05   9.34676646e-05\n",
      "    2.76610758e-02   9.69714880e-01   1.39019068e-03]]\n",
      "0.014637231826782227\n",
      "[[  4.68115322e-05   1.68510989e-04   1.25506076e-05   1.94931163e-05\n",
      "    1.73787083e-02   9.82201993e-01   1.71880951e-04]]\n",
      "0.012798070907592773\n",
      "[[  6.39977370e-05   4.50226828e-04   1.74034139e-05   1.79659819e-05\n",
      "    7.20081991e-03   9.91532147e-01   7.17453891e-04]]\n",
      "0.009397745132446289\n",
      "[[  4.27933846e-05   5.10195154e-04   1.00827483e-05   1.00682109e-05\n",
      "    4.35552327e-03   9.94599462e-01   4.71927167e-04]]\n",
      "0.00844264030456543\n",
      "[[  1.35607206e-06   2.50940702e-05   1.35495441e-07   1.68437793e-07\n",
      "    3.94570263e-04   9.99541759e-01   3.68847359e-05]]\n",
      "0.007608175277709961\n",
      "[[  1.57750546e-05   2.91369273e-04   2.22736185e-06   2.69384373e-06\n",
      "    1.41303567e-03   9.98122633e-01   1.52326771e-04]]\n",
      "0.007561922073364258\n",
      "[[  6.15757817e-05   6.79808611e-04   1.49230118e-05   1.89384518e-05\n",
      "    7.12154107e-03   9.91867840e-01   2.35361193e-04]]\n",
      "0.007653713226318359\n",
      "[[  1.00526442e-04   4.32750152e-04   2.57090251e-05   3.50431183e-05\n",
      "    1.94842163e-02   9.79642034e-01   2.79664411e-04]]\n",
      "0.009905576705932617\n",
      "[[  4.25245235e-05   1.62960001e-04   9.87398471e-06   1.43470515e-05\n",
      "    1.34940790e-02   9.86110806e-01   1.65442441e-04]]\n",
      "0.012859582901000977\n",
      "[[  2.89211293e-05   6.32859301e-05   1.18806911e-05   1.34937181e-05\n",
      "    4.15145196e-02   9.58187222e-01   1.80735180e-04]]\n",
      "0.010821104049682617\n",
      "[[  2.38607099e-05   1.37012248e-04   5.03020601e-06   5.41109966e-06\n",
      "    7.53959548e-03   9.92057860e-01   2.31234313e-04]]\n",
      "0.008278369903564453\n",
      "[[  3.47594141e-05   1.27758089e-04   9.98681389e-06   1.73520730e-05\n",
      "    2.46588960e-02   9.75074172e-01   7.70082115e-05]]\n",
      "0.008170843124389648\n",
      "[[  6.89671378e-06   7.22166151e-05   9.01785313e-07   1.52472978e-06\n",
      "    2.55364552e-03   9.97333884e-01   3.09425777e-05]]\n",
      "0.007633209228515625\n",
      "[[  3.50820374e-05   1.70021973e-04   8.65238144e-06   1.36441304e-05\n",
      "    1.47013562e-02   9.84959185e-01   1.12047848e-04]]\n",
      "0.008264780044555664\n",
      "[[  2.56749645e-05   1.27289939e-04   5.75426520e-06   9.47283206e-06\n",
      "    1.25487288e-02   9.87206757e-01   7.62188065e-05]]\n",
      "0.00748133659362793\n",
      "[[  2.82585697e-05   1.18088377e-04   6.60397018e-06   1.08155791e-05\n",
      "    1.74924564e-02   9.82264102e-01   7.97774919e-05]]\n",
      "0.007694244384765625\n",
      "[[  1.60726613e-05   1.08695051e-04   3.01426917e-06   4.89638069e-06\n",
      "    6.49969559e-03   9.93308902e-01   5.87034992e-05]]\n",
      "0.0374295711517334\n",
      "[[  1.45490449e-05   1.06129723e-04   2.46358536e-06   4.08018377e-06\n",
      "    6.43552234e-03   9.93390083e-01   4.70890336e-05]]\n",
      "0.0388798713684082\n",
      "[[  2.43581453e-05   1.29781372e-04   5.22925666e-06   8.12108101e-06\n",
      "    1.04172537e-02   9.89330530e-01   8.47374758e-05]]\n",
      "0.01756882667541504\n",
      "[[  1.80770057e-05   9.54019124e-05   3.89852539e-06   6.35201923e-06\n",
      "    1.15035204e-02   9.88315701e-01   5.70422671e-05]]\n",
      "0.019454240798950195\n",
      "[[  7.36070569e-06   5.84171721e-05   1.10776409e-06   1.76224489e-06\n",
      "    3.59269883e-03   9.96301174e-01   3.73660660e-05]]\n",
      "0.011256694793701172\n",
      "[[  2.28691933e-05   1.59727875e-04   4.60710089e-06   7.04550757e-06\n",
      "    7.38081709e-03   9.92341638e-01   8.32755395e-05]]\n",
      "0.00816488265991211\n",
      "[[  1.00411644e-05   1.30075408e-04   1.85189413e-06   2.25923259e-06\n",
      "    1.91462063e-03   9.97804344e-01   1.36845134e-04]]\n",
      "0.008727312088012695\n",
      "[[  1.61478911e-05   1.00951569e-04   3.12363909e-06   4.00727640e-06\n",
      "    4.24766075e-03   9.95453596e-01   1.74474088e-04]]\n",
      "0.007578611373901367\n",
      "[[  1.22646281e-06   2.92197747e-05   8.82449527e-08   1.19008448e-07\n",
      "    2.72948120e-04   9.99679089e-01   1.72613854e-05]]\n",
      "0.009337663650512695\n",
      "[[  5.31714295e-06   4.44456527e-05   6.79221557e-07   9.83458108e-07\n",
      "    1.50079152e-03   9.98384595e-01   6.32345109e-05]]\n",
      "0.007626533508300781\n",
      "[[  8.89413695e-06   1.13922055e-04   1.35773450e-06   1.76382673e-06\n",
      "    2.06920947e-03   9.97720540e-01   8.42885420e-05]]\n",
      "0.00787210464477539\n",
      "[[  6.55073393e-07   1.44138830e-05   4.37222525e-08   5.72635912e-08\n",
      "    2.05391465e-04   9.99766529e-01   1.29230848e-05]]\n",
      "0.00759434700012207\n",
      "[[  1.09363682e-05   1.64774217e-04   1.62364029e-06   1.84846431e-06\n",
      "    1.68708037e-03   9.98015761e-01   1.18010430e-04]]\n",
      "0.00799560546875\n",
      "[[  3.16688893e-05   3.25466768e-04   6.48245805e-06   1.04953288e-05\n",
      "    7.70434178e-03   9.91833210e-01   8.83275061e-05]]\n",
      "0.007521629333496094\n",
      "[[  1.87778442e-05   1.72153159e-04   3.40385395e-06   4.70236546e-06\n",
      "    3.41399573e-03   9.96259689e-01   1.27298190e-04]]\n",
      "0.007905960083007812\n",
      "[[  2.84814655e-06   5.39663524e-05   3.16282097e-07   4.44629023e-07\n",
      "    8.15493055e-04   9.99098778e-01   2.82476558e-05]]\n",
      "0.008816957473754883\n",
      "[[  9.30504830e-05   4.28539061e-04   4.70636769e-05   5.05475546e-05\n",
      "    5.71066774e-02   9.41724837e-01   5.49273100e-04]]\n",
      "0.00766754150390625\n",
      "[[  2.44493713e-04   1.96690345e-03   5.02664334e-05   6.77966527e-05\n",
      "    1.16523067e-02   9.85512197e-01   5.05947974e-04]]\n",
      "0.008128643035888672\n",
      "[[  3.70088266e-04   1.74044131e-03   1.47222177e-04   1.68404993e-04\n",
      "    3.16702314e-02   9.64470446e-01   1.43315061e-03]]\n",
      "0.0077855587005615234\n",
      "[[ 0.00244768  0.00820599  0.00146445  0.0016739   0.10430089  0.87613612\n",
      "   0.00577101]]\n",
      "0.008437156677246094\n",
      "[[  4.23834339e-04   6.75654830e-03   2.08883448e-05   3.31540978e-05\n",
      "    3.20866844e-03   9.89408016e-01   1.48865496e-04]]\n",
      "0.00805354118347168\n",
      "[[  6.77917933e-06   3.60787926e-05   6.21195738e-07   1.63399091e-06\n",
      "    2.72384705e-03   9.97221708e-01   9.39289475e-06]]\n"
     ]
    }
   ],
   "source": [
    "# just testing how much time does it take to do a prediction over 50 samples\n",
    "df = df.drop('labels', axis=1)\n",
    "for i in range(50):\n",
    "    X_test = df.iloc[128*i:(128*i)+128]\n",
    "    X_test_arr = np.array(X_test).reshape(1,1,128,6)\n",
    "    start = time.time()\n",
    "    scores = loaded_model.predict(X_test_arr)\n",
    "    end = time.time()\n",
    "    print(end-start)\n",
    "    print(scores)"
   ]
  },
  {
   "cell_type": "markdown",
   "metadata": {},
   "source": [
    "Each prediction takes less then 0.01 seconds to be computed, there should be no problem in doing predictions in real time"
   ]
  },
  {
   "cell_type": "markdown",
   "metadata": {},
   "source": [
    "# Real sensor test\n",
    "Doing some tests with the data captured by the aforementioned Android app. The data was saved in a .csv file. Unfortunately when the phone screen went in standby the app stopped saving data, so there are a lot of gaps. Using the initial part of the datasets however is still doable and gives a sense of the usability of the model."
   ]
  },
  {
   "cell_type": "code",
   "execution_count": 165,
   "metadata": {
    "collapsed": true
   },
   "outputs": [],
   "source": [
    "# swapping x and y axis to match the axis used during training\n",
    "cols = ['acc_y', 'acc_x', 'acc_z', 'gyr_y', 'gyr_x', 'gyr_z']\n",
    "\n",
    "usecols = [2,3,4,6,7,8]\n",
    "realdf = pd.read_csv('./test-signals/Jump.csv', names=cols, usecols=usecols)\n",
    "# invert x axis\n",
    "realdf['acc_x'] *= -1"
   ]
  },
  {
   "cell_type": "code",
   "execution_count": 166,
   "metadata": {},
   "outputs": [
    {
     "data": {
      "text/html": [
       "<div>\n",
       "<style>\n",
       "    .dataframe thead tr:only-child th {\n",
       "        text-align: right;\n",
       "    }\n",
       "\n",
       "    .dataframe thead th {\n",
       "        text-align: left;\n",
       "    }\n",
       "\n",
       "    .dataframe tbody tr th {\n",
       "        vertical-align: top;\n",
       "    }\n",
       "</style>\n",
       "<table border=\"1\" class=\"dataframe\">\n",
       "  <thead>\n",
       "    <tr style=\"text-align: right;\">\n",
       "      <th></th>\n",
       "      <th>acc_y</th>\n",
       "      <th>acc_x</th>\n",
       "      <th>acc_z</th>\n",
       "      <th>gyr_y</th>\n",
       "      <th>gyr_x</th>\n",
       "      <th>gyr_z</th>\n",
       "    </tr>\n",
       "  </thead>\n",
       "  <tbody>\n",
       "    <tr>\n",
       "      <th>0</th>\n",
       "      <td>0.335</td>\n",
       "      <td>-10.126</td>\n",
       "      <td>-0.489</td>\n",
       "      <td>0.003</td>\n",
       "      <td>-0.026</td>\n",
       "      <td>0.005</td>\n",
       "    </tr>\n",
       "    <tr>\n",
       "      <th>1</th>\n",
       "      <td>0.254</td>\n",
       "      <td>-10.121</td>\n",
       "      <td>-0.580</td>\n",
       "      <td>-0.014</td>\n",
       "      <td>0.017</td>\n",
       "      <td>-0.008</td>\n",
       "    </tr>\n",
       "    <tr>\n",
       "      <th>2</th>\n",
       "      <td>0.182</td>\n",
       "      <td>-10.131</td>\n",
       "      <td>-0.747</td>\n",
       "      <td>-0.006</td>\n",
       "      <td>0.014</td>\n",
       "      <td>-0.029</td>\n",
       "    </tr>\n",
       "    <tr>\n",
       "      <th>3</th>\n",
       "      <td>0.273</td>\n",
       "      <td>-10.035</td>\n",
       "      <td>-0.374</td>\n",
       "      <td>-0.036</td>\n",
       "      <td>0.025</td>\n",
       "      <td>-0.046</td>\n",
       "    </tr>\n",
       "    <tr>\n",
       "      <th>4</th>\n",
       "      <td>0.489</td>\n",
       "      <td>-10.088</td>\n",
       "      <td>-0.388</td>\n",
       "      <td>-0.061</td>\n",
       "      <td>0.032</td>\n",
       "      <td>-0.054</td>\n",
       "    </tr>\n",
       "  </tbody>\n",
       "</table>\n",
       "</div>"
      ],
      "text/plain": [
       "   acc_y   acc_x  acc_z  gyr_y  gyr_x  gyr_z\n",
       "0  0.335 -10.126 -0.489  0.003 -0.026  0.005\n",
       "1  0.254 -10.121 -0.580 -0.014  0.017 -0.008\n",
       "2  0.182 -10.131 -0.747 -0.006  0.014 -0.029\n",
       "3  0.273 -10.035 -0.374 -0.036  0.025 -0.046\n",
       "4  0.489 -10.088 -0.388 -0.061  0.032 -0.054"
      ]
     },
     "execution_count": 166,
     "metadata": {},
     "output_type": "execute_result"
    }
   ],
   "source": [
    "realdf.head()"
   ]
  },
  {
   "cell_type": "code",
   "execution_count": 167,
   "metadata": {},
   "outputs": [
    {
     "data": {
      "text/html": [
       "<div>\n",
       "<style>\n",
       "    .dataframe thead tr:only-child th {\n",
       "        text-align: right;\n",
       "    }\n",
       "\n",
       "    .dataframe thead th {\n",
       "        text-align: left;\n",
       "    }\n",
       "\n",
       "    .dataframe tbody tr th {\n",
       "        vertical-align: top;\n",
       "    }\n",
       "</style>\n",
       "<table border=\"1\" class=\"dataframe\">\n",
       "  <thead>\n",
       "    <tr style=\"text-align: right;\">\n",
       "      <th></th>\n",
       "      <th>acc_x</th>\n",
       "      <th>acc_y</th>\n",
       "      <th>acc_z</th>\n",
       "      <th>gyr_x</th>\n",
       "      <th>gyr_y</th>\n",
       "      <th>gyr_z</th>\n",
       "    </tr>\n",
       "  </thead>\n",
       "  <tbody>\n",
       "    <tr>\n",
       "      <th>0</th>\n",
       "      <td>-10.126</td>\n",
       "      <td>0.335</td>\n",
       "      <td>-0.489</td>\n",
       "      <td>-0.026</td>\n",
       "      <td>0.003</td>\n",
       "      <td>0.005</td>\n",
       "    </tr>\n",
       "    <tr>\n",
       "      <th>1</th>\n",
       "      <td>-10.121</td>\n",
       "      <td>0.254</td>\n",
       "      <td>-0.580</td>\n",
       "      <td>0.017</td>\n",
       "      <td>-0.014</td>\n",
       "      <td>-0.008</td>\n",
       "    </tr>\n",
       "    <tr>\n",
       "      <th>2</th>\n",
       "      <td>-10.131</td>\n",
       "      <td>0.182</td>\n",
       "      <td>-0.747</td>\n",
       "      <td>0.014</td>\n",
       "      <td>-0.006</td>\n",
       "      <td>-0.029</td>\n",
       "    </tr>\n",
       "    <tr>\n",
       "      <th>3</th>\n",
       "      <td>-10.035</td>\n",
       "      <td>0.273</td>\n",
       "      <td>-0.374</td>\n",
       "      <td>0.025</td>\n",
       "      <td>-0.036</td>\n",
       "      <td>-0.046</td>\n",
       "    </tr>\n",
       "    <tr>\n",
       "      <th>4</th>\n",
       "      <td>-10.088</td>\n",
       "      <td>0.489</td>\n",
       "      <td>-0.388</td>\n",
       "      <td>0.032</td>\n",
       "      <td>-0.061</td>\n",
       "      <td>-0.054</td>\n",
       "    </tr>\n",
       "  </tbody>\n",
       "</table>\n",
       "</div>"
      ],
      "text/plain": [
       "    acc_x  acc_y  acc_z  gyr_x  gyr_y  gyr_z\n",
       "0 -10.126  0.335 -0.489 -0.026  0.003  0.005\n",
       "1 -10.121  0.254 -0.580  0.017 -0.014 -0.008\n",
       "2 -10.131  0.182 -0.747  0.014 -0.006 -0.029\n",
       "3 -10.035  0.273 -0.374  0.025 -0.036 -0.046\n",
       "4 -10.088  0.489 -0.388  0.032 -0.061 -0.054"
      ]
     },
     "execution_count": 167,
     "metadata": {},
     "output_type": "execute_result"
    }
   ],
   "source": [
    "# reordering the columns of the dataset\n",
    "realdf = realdf.reindex_axis(sorted(realdf.columns), axis=1)\n",
    "realdf.head()"
   ]
  },
  {
   "cell_type": "code",
   "execution_count": 168,
   "metadata": {},
   "outputs": [
    {
     "data": {
      "text/plain": [
       "acc_x   -0.438589\n",
       "acc_y   -0.117227\n",
       "acc_z   -0.316258\n",
       "gyr_x    0.189735\n",
       "gyr_y   -0.032092\n",
       "gyr_z   -0.077734\n",
       "dtype: float64"
      ]
     },
     "execution_count": 168,
     "metadata": {},
     "output_type": "execute_result"
    }
   ],
   "source": [
    "# normalizing the dataset\n",
    "realdf_norm = (realdf-mean)/std\n",
    "realdf_norm.mean()"
   ]
  },
  {
   "cell_type": "code",
   "execution_count": 169,
   "metadata": {},
   "outputs": [
    {
     "data": {
      "text/plain": [
       "(1240, 6)"
      ]
     },
     "execution_count": 169,
     "metadata": {},
     "output_type": "execute_result"
    }
   ],
   "source": [
    "realdf_norm.shape"
   ]
  },
  {
   "cell_type": "code",
   "execution_count": 171,
   "metadata": {},
   "outputs": [
    {
     "name": "stdout",
     "output_type": "stream",
     "text": [
      "[[  5.50034528e-23   1.00000000e+00   1.03761648e-30   3.23431497e-29\n",
      "    1.92791624e-32   3.25606082e-17   1.33126384e-23]]\n",
      "jumping\n",
      "[[  2.46141723e-31   1.00000000e+00   0.00000000e+00   2.20345664e-38\n",
      "    0.00000000e+00   6.71334066e-26   7.93265059e-31]]\n",
      "jumping\n",
      "[[  1.62968712e-30   1.00000000e+00   0.00000000e+00   3.61639238e-37\n",
      "    0.00000000e+00   7.63332930e-30   1.27069235e-32]]\n",
      "jumping\n",
      "[[  4.91270182e-29   1.00000000e+00   0.00000000e+00   3.86697148e-35\n",
      "    0.00000000e+00   9.43191510e-29   1.26629029e-30]]\n",
      "jumping\n",
      "[[  1.24372403e-28   1.00000000e+00   1.36114005e-38   2.42877773e-34\n",
      "    0.00000000e+00   4.97496301e-26   4.44467542e-30]]\n",
      "jumping\n",
      "[[  3.22445337e-33   1.00000000e+00   0.00000000e+00   0.00000000e+00\n",
      "    0.00000000e+00   1.84383930e-24   6.15397649e-34]]\n",
      "jumping\n",
      "[[  7.92438119e-34   1.00000000e+00   0.00000000e+00   0.00000000e+00\n",
      "    0.00000000e+00   1.26888055e-25   1.65966872e-31]]\n",
      "jumping\n",
      "[[  8.36170917e-34   1.00000000e+00   0.00000000e+00   0.00000000e+00\n",
      "    0.00000000e+00   8.93057086e-29   2.91150505e-34]]\n",
      "jumping\n",
      "[[  1.07188146e-31   1.00000000e+00   0.00000000e+00   2.44011285e-37\n",
      "    0.00000000e+00   1.49656925e-30   1.57983980e-33]]\n",
      "jumping\n",
      "[[  6.39786705e-30   1.00000000e+00   0.00000000e+00   3.88732280e-35\n",
      "    0.00000000e+00   1.00958337e-28   1.19353725e-31]]\n",
      "jumping\n",
      "[[  8.88805884e-28   1.00000000e+00   2.36438915e-37   6.04444017e-34\n",
      "    3.91474278e-38   5.03699458e-23   1.69218494e-29]]\n",
      "jumping\n",
      "[[  1.19178468e-25   1.00000000e+00   5.64815439e-34   7.94563887e-32\n",
      "    1.36241488e-35   2.31497448e-20   3.41244988e-26]]\n",
      "jumping\n",
      "[[  1.40738055e-26   1.00000000e+00   9.11043536e-35   6.95531074e-32\n",
      "    0.00000000e+00   9.54031734e-24   9.67532200e-27]]\n",
      "jumping\n",
      "[[  9.55433421e-25   1.00000000e+00   3.18708183e-33   1.10432274e-29\n",
      "    7.75906751e-38   2.47252920e-25   9.31877320e-26]]\n",
      "jumping\n",
      "[[  8.07525847e-25   1.00000000e+00   2.27950498e-32   1.56258809e-28\n",
      "    1.02739304e-35   2.16438426e-24   2.99809003e-25]]\n",
      "jumping\n"
     ]
    }
   ],
   "source": [
    "# checking the first 15 samples\n",
    "for i in range(15):\n",
    "    X_test = realdf_norm.iloc[64*i:(64*i)+128]\n",
    "    X_test_arr = np.array(X_test).reshape(1,1,128,6)\n",
    "    start = time.time()\n",
    "    scores = loaded_model.predict(X_test_arr)\n",
    "    end = time.time()\n",
    "    print(scores)\n",
    "    activity_id = str(ohe_to_label(scores)[0])\n",
    "    print(class_conversion[activity_id])"
   ]
  },
  {
   "cell_type": "markdown",
   "metadata": {},
   "source": [
    "In the above example, jumping signals have been predicted with the correct label."
   ]
  }
 ],
 "metadata": {
  "kernelspec": {
   "display_name": "Python 3",
   "language": "python",
   "name": "python3"
  },
  "language_info": {
   "codemirror_mode": {
    "name": "ipython",
    "version": 3
   },
   "file_extension": ".py",
   "mimetype": "text/x-python",
   "name": "python",
   "nbconvert_exporter": "python",
   "pygments_lexer": "ipython3",
   "version": "3.6.3"
  }
 },
 "nbformat": 4,
 "nbformat_minor": 2
}
